{
 "cells": [
  {
   "cell_type": "code",
   "execution_count": 1,
   "metadata": {},
   "outputs": [
    {
     "name": "stderr",
     "output_type": "stream",
     "text": [
      "/Users/quytrungg/.pyenv/versions/3.10.12/envs/deep-learning/lib/python3.10/site-packages/tqdm/auto.py:21: TqdmWarning: IProgress not found. Please update jupyter and ipywidgets. See https://ipywidgets.readthedocs.io/en/stable/user_install.html\n",
      "  from .autonotebook import tqdm as notebook_tqdm\n"
     ]
    }
   ],
   "source": [
    "import os\n",
    "import tensorflow as tf\n",
    "import numpy as np\n",
    "import cv2\n",
    "\n",
    "from PIL import Image\n",
    "from IPython.display import display\n",
    "import matplotlib.pyplot as plt\n",
    "\n",
    "from tensorflow import keras\n",
    "import tensorflow_datasets as tfds\n",
    "from keras.datasets import fashion_mnist\n",
    "\n",
    "tfds.disable_progress_bar()\n",
    "\n",
    "from tensorflow.keras.models import Model\n",
    "from tensorflow.keras.losses import Loss\n",
    "from tensorflow.keras.layers import Layer,Lambda,InputLayer\n",
    "from tensorflow.keras.utils import plot_model\n",
    "from tensorflow.keras.callbacks import ModelCheckpoint\n",
    "\n",
    "import cvnn.layers as complex_layers\n",
    "\n",
    "import warnings\n",
    "warnings.filterwarnings('ignore')"
   ]
  },
  {
   "cell_type": "code",
   "execution_count": 2,
   "metadata": {},
   "outputs": [],
   "source": [
    "size = 56\n",
    "BUFFER_SIZE = 50\n",
    "BATCH_SIZE_PER_REPLICA = 8\n",
    "BATCH_SIZE = BATCH_SIZE_PER_REPLICA * 1\n",
    "\n",
    "# Define the traning parameters\n",
    "keep_training = False\n",
    "learning_rate = 0.01\n",
    "epochs = 4\n",
    "\n",
    "# load the dataset\n",
    "datasets, info = tfds.load(name='fashion_mnist', with_info=True, as_supervised=True, data_dir='./data')\n",
    "\n",
    "fashion_mnist_train, fashion_mnist_test = datasets['train'], datasets['test']\n",
    "\n",
    "num_train = info.splits['train'].num_examples\n",
    "num_test = info.splits['test'].num_examples"
   ]
  },
  {
   "cell_type": "code",
   "execution_count": 4,
   "metadata": {},
   "outputs": [],
   "source": [
    "# datasets, info = tfds.load(name='mnist', with_info=True, as_supervised=True, data_dir='./data')\n",
    "\n",
    "mnist_train, mnist_test = datasets['train'], datasets['test']\n",
    "\n",
    "num_train = info.splits['train'].num_examples\n",
    "num_test = info.splits['test'].num_examples"
   ]
  },
  {
   "cell_type": "code",
   "execution_count": 5,
   "metadata": {},
   "outputs": [],
   "source": [
    "# datasets, info = tfds.load(name='emnist', with_info=True, as_supervised=True, data_dir='./data')\n",
    "\n",
    "emnist_train, emnist_test = datasets['train'], datasets['test']\n",
    "\n",
    "num_train = info.splits['train'].num_examples\n",
    "num_test = info.splits['test'].num_examples"
   ]
  },
  {
   "cell_type": "code",
   "execution_count": 6,
   "metadata": {},
   "outputs": [],
   "source": [
    "# datasets, info = tfds.load(name='kmnist', with_info=True, as_supervised=True, data_dir='./data')\n",
    "\n",
    "kmnist_train, kmnist_test = datasets['train'], datasets['test']\n",
    "\n",
    "num_train = info.splits['train'].num_examples\n",
    "num_test = info.splits['test'].num_examples"
   ]
  },
  {
   "attachments": {},
   "cell_type": "markdown",
   "metadata": {},
   "source": [
    "### 1.Define phase object ( Preprocess the images with up-sampling )\n",
    "1. Load image that serves as phase object  \n",
    "\n",
    "2. Image is 28x28 pixels, and is padded to 200x200 pixels  with 0's  \n",
    "\n",
    "3. Phase Image = exp(2$\\pi$ i * Padded Image)\n",
    "\n",
    "The digital image is encoded in phasor form, with an uniform amplitude and different phase angle.\n"
   ]
  },
  {
   "cell_type": "code",
   "execution_count": 7,
   "metadata": {},
   "outputs": [],
   "source": [
    "def preprocess(image, label):\n",
    "    label = tf.one_hot(tf.cast(label, tf.int32), 10)   # convert the label to categorial, or one-hot coded\n",
    "    \n",
    "    up_sampling_size = int(1*size)\n",
    "    padding_size = (size - up_sampling_size)//2\n",
    "    image = tf.cast(image, tf.float32)\n",
    "    # Step1: upsample the image to 56x56\n",
    "    up_sampling_image = tf.image.resize(image,\n",
    "                                        size=[up_sampling_size,up_sampling_size],\n",
    "                                        method='nearest')\n",
    "    up_sampling_image = up_sampling_image / 255.0\n",
    "    # Step2: get the phase object\n",
    "    phase_image = tf.math.exp(2*np.pi*1j*tf.cast(up_sampling_image,dtype=tf.complex64))\n",
    "    # Step3: pad the phase object to 200x200 with 0s\n",
    "    zero_padded_image = tf.pad(phase_image,\n",
    "                                paddings=[[padding_size,padding_size],[padding_size,padding_size],[0,0]],\n",
    "                                mode=\"CONSTANT\",constant_values=0)\n",
    "        \n",
    "    return tf.cast(zero_padded_image, dtype=tf.complex64), label\n",
    "    \n",
    "train_dataset_fmnist = fashion_mnist_train.map(preprocess).cache().shuffle(BUFFER_SIZE).batch(BATCH_SIZE,drop_remainder=True)\n",
    "test_dataset_fmnist = fashion_mnist_test.map(preprocess).batch(BATCH_SIZE,drop_remainder=True)"
   ]
  },
  {
   "cell_type": "code",
   "execution_count": 8,
   "metadata": {},
   "outputs": [],
   "source": [
    "train_dataset_mnist = mnist_train.map(preprocess).cache().shuffle(BUFFER_SIZE).batch(BATCH_SIZE,drop_remainder=True)\n",
    "test_dataset_mnist = mnist_test.map(preprocess).batch(BATCH_SIZE,drop_remainder=True)\n",
    "\n",
    "train_dataset_kmnist = kmnist_train.map(preprocess).cache().shuffle(BUFFER_SIZE).batch(BATCH_SIZE,drop_remainder=True)\n",
    "test_dataset_kmnist = kmnist_test.map(preprocess).batch(BATCH_SIZE,drop_remainder=True)"
   ]
  },
  {
   "attachments": {},
   "cell_type": "markdown",
   "metadata": {},
   "source": [
    "#### Visualize the data"
   ]
  },
  {
   "cell_type": "code",
   "execution_count": 9,
   "metadata": {},
   "outputs": [
    {
     "name": "stderr",
     "output_type": "stream",
     "text": [
      "2023-07-13 19:35:54.435162: W tensorflow/core/kernels/data/cache_dataset_ops.cc:854] The calling iterator did not fully read the dataset being cached. In order to avoid unexpected truncation of the dataset, the partially cached contents of the dataset  will be discarded. This can happen if you have an input pipeline similar to `dataset.cache().take(k).repeat()`. You should use `dataset.take(k).cache().repeat()` instead.\n"
     ]
    },
    {
     "data": {
      "image/png": "[encoded data removed]",
      "text/plain": [
       "<Figure size 2100x800 with 8 Axes>"
      ]
     },
     "metadata": {},
     "output_type": "display_data"
    }
   ],
   "source": [
    "# plot the phase(angle) of the phase images\n",
    "rows, cols = 1 ,8\n",
    "fig = plt.figure(figsize=(21,8))\n",
    "for images, labels in test_dataset_fmnist.take(1):\n",
    "    for i in range(8):\n",
    "        fig.add_subplot(rows,cols,i+1)\n",
    "        image = np.angle(images[i].numpy()).squeeze()\n",
    "        # print(np.min(np.abs(images[i].numpy()).squeeze())) # check the amplitude of the phase object\n",
    "        plt.imshow(image,cmap='RdBu')"
   ]
  },
  {
   "cell_type": "code",
   "execution_count": 10,
   "metadata": {},
   "outputs": [
    {
     "name": "stderr",
     "output_type": "stream",
     "text": [
      "2023-07-13 19:35:55.991334: W tensorflow/core/kernels/data/cache_dataset_ops.cc:854] The calling iterator did not fully read the dataset being cached. In order to avoid unexpected truncation of the dataset, the partially cached contents of the dataset  will be discarded. This can happen if you have an input pipeline similar to `dataset.cache().take(k).repeat()`. You should use `dataset.take(k).cache().repeat()` instead.\n"
     ]
    },
    {
     "data": {
      "image/png": "[encoded data removed]",
      "text/plain": [
       "<Figure size 2100x800 with 8 Axes>"
      ]
     },
     "metadata": {},
     "output_type": "display_data"
    }
   ],
   "source": [
    "# plot the phase(angle) of the phase images\n",
    "rows, cols = 1 ,8\n",
    "fig = plt.figure(figsize=(21,8))\n",
    "for images, labels in test_dataset_kmnist.take(1):\n",
    "    for i in range(8):\n",
    "        fig.add_subplot(rows,cols,i+1)\n",
    "        image = np.angle(images[i].numpy()).squeeze()\n",
    "        # print(np.min(np.abs(images[i].numpy()).squeeze())) # check the amplitude of the phase object\n",
    "        plt.imshow(image,cmap='RdBu')"
   ]
  },
  {
   "cell_type": "code",
   "execution_count": 34,
   "metadata": {},
   "outputs": [
    {
     "name": "stderr",
     "output_type": "stream",
     "text": [
      "2023-07-13 19:44:56.489139: W tensorflow/core/kernels/data/cache_dataset_ops.cc:854] The calling iterator did not fully read the dataset being cached. In order to avoid unexpected truncation of the dataset, the partially cached contents of the dataset  will be discarded. This can happen if you have an input pipeline similar to `dataset.cache().take(k).repeat()`. You should use `dataset.take(k).cache().repeat()` instead.\n"
     ]
    },
    {
     "data": {
      "image/png": "[encoded data removed]",
      "text/plain": [
       "<Figure size 2100x800 with 8 Axes>"
      ]
     },
     "metadata": {},
     "output_type": "display_data"
    }
   ],
   "source": [
    "# plot the phase(angle) of the phase images\n",
    "rows, cols = 1 ,8\n",
    "fig = plt.figure(figsize=(21,8))\n",
    "for images, labels in test_dataset_mnist.take(1):\n",
    "    for i in range(8):\n",
    "        fig.add_subplot(rows,cols,i+1)\n",
    "        image = np.angle(images[i].numpy()).squeeze()\n",
    "        # print(np.min(np.abs(images[i].numpy()).squeeze())) # check the amplitude of the phase object\n",
    "        plt.imshow(image,cmap='RdBu')"
   ]
  },
  {
   "attachments": {},
   "cell_type": "markdown",
   "metadata": {},
   "source": [
    "### 2.Build the Diffraction layer using Angular Spectrum method\n",
    "\n",
    "### Angular Spectrum Propagation\n",
    "$$U_1(x,y) =\\mathcal{F}^{-1}[\\mathcal{F} U_0(x,y)\\mathcal{F}h(x,y)]$$\n",
    "\n",
    "$$U_1(x,y) =\\mathcal{F}^{-1}[\\mathcal{F} U_0(x,y) H(f_x,f_y)]$$\n",
    "\n",
    "\n",
    "This can be described using Fourier transforms.The first Fourier transform decomposes the initial field into plane waves. To propagate the plane waves, we multiply each wave by a complex phase factor, and then we take the inverse Fourier transform to add all the propagated plane waves back together.\n",
    "\n",
    "To implement Angular spectrum propagation, the Fouier transform of the initial field is first multiplied with the phase factor $$H=e^{ik_zz}$$, where $k_z$is a function of the spatial frequencies $$k_z=\\sqrt{k^2-k_x^2-k_y}$$where $$  k = \\frac{2\\pi}{\\lambda}$$ and $k_x$ and $k_y$ are related to the spatial frequencies $f_x$ and $f_y$ by a factor of $2\\pi$ $$k_{x,y} = 2\\pi f_{x,y}$$\n",
    "\n",
    "Hence the complex exponential can be written in terms of the Fourier coordinates $f_x$ and $f_y$, that is \n",
    "\n",
    "$$H=e^{ik_zz},k_z = 2\\pi \\sqrt{\\frac{1}{\\lambda}-f_x-f_y}$$\n",
    "\n",
    "Descretized spatial freqnency $f_x = k*\\Delta f = \\frac{k}{N \\Delta x}$  \n",
    "Interval between the spatial frequencies $\\Delta f = \\frac{1}{N \\Delta x}=\\frac{1}{L}$,where $L$ denotes the field of view in object space"
   ]
  },
  {
   "cell_type": "code",
   "execution_count": 12,
   "metadata": {},
   "outputs": [],
   "source": [
    "class Diffraction_Layer(Layer):\n",
    "    def __init__(self, units =200):\n",
    "        '''Initialize the diffraction layer attributes'''\n",
    "        super(Diffraction_Layer, self).__init__()\n",
    "        self.units = units\n",
    "        self.Nx = units              # Nx is the dimension of the grid\n",
    "        # self.L = 0.08              # source and observation plane side length, field of view\n",
    "        self.dx = 100e-6\n",
    "        self.lam = 0.75e-3           # wavelength of the optical wave: 0.75 mm\n",
    "        self.z = 3e-2                # distance of propagation(the distance bewteen two layers)\n",
    "   \n",
    "    def build(self, input_shape):\n",
    "        '''Create the state of the layer (weights)'''\n",
    "        phase_init = tf.random_normal_initializer()\n",
    "        self.phase = tf.Variable(name= \"phase\",\n",
    "                                initial_value=phase_init(shape=(self.units,self.units), dtype='float32'),\n",
    "                                trainable=True,\n",
    "                                constraint=lambda t: tf.clip_by_value(t, 0, 2*np.pi))\n",
    "        # To help with the 3D-printing and fabrication of the D2NN design, \n",
    "        # a sigmoid function was used to constrain the phase value of each neuron\n",
    "    @tf.function\n",
    "    def call(self, inputs):\n",
    "        '''Define the computation'''\n",
    "        def angular_spectrum_propagator(E, z = self.z, lam = self.lam):\n",
    "            # compute angular spectrum\n",
    "            fft_c = tf.signal.fft2d(E)\n",
    "            c = tf.signal.fftshift(fft_c)\n",
    "\n",
    "            fx = np.fft.fftshift(np.fft.fftfreq(self.Nx, d = self.dx))\n",
    "            fxx, fyy = np.meshgrid(fx, fx)\n",
    "            argument = (2 * np.pi)**2 * ((1. / lam) ** 2 - fxx ** 2 - fyy ** 2)\n",
    "\n",
    "           #Calculate the propagating and the evanescent (complex) modes\n",
    "            tmp = np.sqrt(np.abs(argument))\n",
    "            kz = np.where(argument >= 0, tmp, 1j*tmp)\n",
    "\n",
    "            # propagate the angular spectrum a distance z\n",
    "            E = tf.signal.ifft2d(tf.signal.ifftshift(c * np.exp(1j * kz * z)))\n",
    "            return E\n",
    "        return tf.multiply(angular_spectrum_propagator(inputs),tf.math.exp(1j*tf.cast(self.phase,dtype=tf.complex64)))"
   ]
  },
  {
   "attachments": {},
   "cell_type": "markdown",
   "metadata": {
    "tags": []
   },
   "source": [
    "#### Notice\n",
    "For ___tf.cast()___: In case of casting from real types to complex types(complex64), the imaginary part of the returned value is set to 0.    "
   ]
  },
  {
   "cell_type": "code",
   "execution_count": 13,
   "metadata": {},
   "outputs": [],
   "source": [
    "class Propogation(Layer):\n",
    "    def __init__(self, units =200):\n",
    "        '''Initialize the diffraction layer attributes'''\n",
    "        super(Propogation, self).__init__()\n",
    "        self.units = units\n",
    "        self.Nx = units              # Nx is the dimension of the grid\n",
    "        self.dx = 100e-6\n",
    "        self.lam = 0.75e-3            # wavelength of the opticalwave\n",
    "        self.z = 1e-2                # distance of propagation(the distance bewteen last layer and the detector)\n",
    "        \n",
    "    @tf.function\n",
    "    def call(self, inputs):\n",
    "        '''Define the computation'''\n",
    "        def angular_spectrum_propagator(E, z = self.z, lam = self.lam):\n",
    "            # compute angular spectrum\n",
    "            fft_c = tf.signal.fft2d(E)\n",
    "            c = tf.signal.fftshift(fft_c)\n",
    "\n",
    "            fx = np.fft.fftshift(np.fft.fftfreq(self.Nx, d = self.dx))\n",
    "            fxx, fyy = np.meshgrid(fx, fx)\n",
    "            argument = (2 * np.pi)**2 * ((1. / lam) ** 2 - fxx ** 2 - fyy ** 2)\n",
    "\n",
    "           #Calculate the propagating and the evanescent (complex) modes\n",
    "            tmp = np.sqrt(np.abs(argument))\n",
    "            kz = np.where(argument >= 0, tmp, 1j*tmp)\n",
    "\n",
    "            # propagate the angular spectrum a distance z\n",
    "            E = tf.signal.ifft2d(tf.signal.ifftshift(c * np.exp(1j * kz * z))) # phase是加还是减\n",
    "            return E\n",
    "        return angular_spectrum_propagator(inputs)\n",
    "        "
   ]
  },
  {
   "cell_type": "code",
   "execution_count": 14,
   "metadata": {},
   "outputs": [],
   "source": [
    "class Detector(Layer):\n",
    "    def __init__(self, units=200):\n",
    "        '''Initialize the instance attributes'''\n",
    "        super(Detector, self).__init__()\n",
    "        self.units = units\n",
    "    \n",
    "    @tf.function\n",
    "    def call(self, inputs):\n",
    "        ''' Converts output to one hot form\n",
    "        Applies softmax'''\n",
    "        \n",
    "        def rang(arr,shape,size=size,base = 500):\n",
    "            x0 = shape[0] * size // base\n",
    "            y0 = shape[2] * size // base\n",
    "            delta = (shape[1]-shape[0])* size // base\n",
    "            return arr[x0:x0+delta,y0:y0+delta]\n",
    "        \n",
    "        def reduce_mean(tf_):\n",
    "            return tf.reduce_mean(tf_)\n",
    "        \n",
    "        def _ten_regions(a):\n",
    "            return tf.map_fn(reduce_mean,tf.convert_to_tensor([\n",
    "                rang(a,(120,170,120,170)),\n",
    "                rang(a,(120,170,240,290)),\n",
    "                rang(a,(120,170,360,410)),\n",
    "                rang(a,(220,270,120,170)),\n",
    "                rang(a,(220,270,200,250)),\n",
    "                rang(a,(220,270,280,330)),\n",
    "                rang(a,(220,270,360,410)),\n",
    "                rang(a,(320,370,120,170)),\n",
    "                rang(a,(320,370,240,290)),\n",
    "                rang(a,(320,370,360,410))\n",
    "            ]))\n",
    "        \n",
    "        def ten_regions(logits):\n",
    "            return tf.map_fn(_ten_regions,tf.abs(logits),dtype=tf.float32)\n",
    "\n",
    "        return tf.square(ten_regions(tf.abs(inputs))) # logits_abs"
   ]
  },
  {
   "cell_type": "code",
   "execution_count": 15,
   "metadata": {},
   "outputs": [],
   "source": [
    "def loss_function(y_label,logits_abs):\n",
    "    return tf.reduce_mean(tf.square(logits_abs-y_label))"
   ]
  },
  {
   "cell_type": "code",
   "execution_count": 35,
   "metadata": {},
   "outputs": [],
   "source": [
    "train_dataset_fmnist =  list(train_dataset_fmnist)\n",
    "train_dataset_kmnist = list(train_dataset_kmnist)\n",
    "train_dataset_mnist = list(train_dataset_mnist)\n",
    "\n",
    "train_dataset_fmnist = [ i[0] for i in train_dataset_fmnist] , [ i[1] for i in train_dataset_fmnist]\n",
    "train_dataset_kmnist = [ i[0] for i in train_dataset_kmnist] , [ i[1] for i in train_dataset_kmnist]\n",
    "train_dataset_mnist = [ i[0] for i in train_dataset_mnist] , [ i[1] for i in train_dataset_mnist]"
   ]
  },
  {
   "cell_type": "code",
   "execution_count": 31,
   "metadata": {},
   "outputs": [
    {
     "name": "stderr",
     "output_type": "stream",
     "text": [
      "WARNING:absl:At this time, the v2.11+ optimizer `tf.keras.optimizers.Adam` runs slowly on M1/M2 Macs, please use the legacy Keras optimizer instead, located at `tf.keras.optimizers.legacy.Adam`.\n",
      "WARNING:absl:There is a known slowdown when using v2.11+ Keras optimizers on M1/M2 Macs. Falling back to the legacy Keras optimizer, i.e., `tf.keras.optimizers.legacy.Adam`.\n"
     ]
    }
   ],
   "source": [
    "def get_D2NN_model():\n",
    "    inputs = complex_layers.complex_input(shape=(size,size))\n",
    "    h1 = Diffraction_Layer(size)(inputs)\n",
    "    h2 = Diffraction_Layer(size)(h1)\n",
    "    h3 = Diffraction_Layer(size)(h2)\n",
    "    h4 = Diffraction_Layer(size)(h3)\n",
    "    propogation = Propogation(size)(h4)\n",
    "    out = Detector()(propogation)\n",
    "    return tf.keras.Model(inputs, out)\n",
    "\n",
    "def get_D2NN_model_detect(model):\n",
    "    inputs = complex_layers.complex_input(shape=(size,size))\n",
    "    h1 = Diffraction_Layer(size)(inputs)\n",
    "    h2 = Diffraction_Layer(size)(h1)\n",
    "    h3 = Diffraction_Layer(size)(h2)\n",
    "    h4 = Diffraction_Layer(size)(h3)\n",
    "    propogation = Propogation(size)(h4)\n",
    "    M =  tf.keras.Model(inputs, propogation)\n",
    "    for i in range(len(M.layers)):\n",
    "        M.layers[i].set_weights( model.layers[i].get_weights() )\n",
    "\n",
    "    return M\n",
    "\n",
    "\n",
    "D2NN = get_D2NN_model()\n",
    "\n",
    "lr_schedule = tf.keras.optimizers.schedules.ExponentialDecay(\n",
    "    initial_learning_rate = learning_rate,\n",
    "    decay_steps=100000,\n",
    "    decay_rate=0.96,\n",
    "    staircase=True)\n",
    "\n",
    "D2NN.compile(optimizer=tf.keras.optimizers.Adam(learning_rate=lr_schedule),\n",
    "             loss=loss_function,\n",
    "             metrics=['accuracy'])\n",
    "\n",
    "# D2NN.summary()\n",
    "# plot_model(D2NN, show_shapes=True, show_layer_names=True, to_file='D2NN-model.png')"
   ]
  },
  {
   "cell_type": "code",
   "execution_count": 32,
   "metadata": {},
   "outputs": [
    {
     "name": "stdout",
     "output_type": "stream",
     "text": [
      "Model: \"model_3\"\n",
      "_________________________________________________________________\n",
      " Layer (type)                Output Shape              Param #   \n",
      "=================================================================\n",
      " input_4 (ComplexInput)      [(None, 56, 56)]          0         \n",
      "                                                                 \n",
      " diffraction__layer_12 (Dif  (None, 56, 56)            3136      \n",
      " fraction_Layer)                                                 \n",
      "                                                                 \n",
      " diffraction__layer_13 (Dif  (None, 56, 56)            3136      \n",
      " fraction_Layer)                                                 \n",
      "                                                                 \n",
      " diffraction__layer_14 (Dif  (None, 56, 56)            3136      \n",
      " fraction_Layer)                                                 \n",
      "                                                                 \n",
      " diffraction__layer_15 (Dif  (None, 56, 56)            3136      \n",
      " fraction_Layer)                                                 \n",
      "                                                                 \n",
      " propogation_3 (Propogation  (None, 56, 56)            0         \n",
      " )                                                               \n",
      "                                                                 \n",
      " detector_2 (Detector)       (None, 10)                0         \n",
      "                                                                 \n",
      "=================================================================\n",
      "Total params: 12544 (49.00 KB)\n",
      "Trainable params: 12544 (49.00 KB)\n",
      "Non-trainable params: 0 (0.00 Byte)\n",
      "_________________________________________________________________\n"
     ]
    }
   ],
   "source": [
    "D2NN.summary()"
   ]
  },
  {
   "cell_type": "code",
   "execution_count": 18,
   "metadata": {},
   "outputs": [],
   "source": [
    "def custom_training(model:tf.keras.models,fmnist,kmnist,mnist,epochs =1,batch =1):\n",
    "\n",
    "    if epochs < 1:\n",
    "        epochs = 1\n",
    "    if batch < 1 :\n",
    "        batch = 1\n",
    "\n",
    "    # clone\n",
    "    model_1 = get_D2NN_model()\n",
    "    model_2 = get_D2NN_model()\n",
    "    model_3 = get_D2NN_model()\n",
    "\n",
    "    model_1.compile(optimizer=tf.keras.optimizers.Adam(learning_rate=lr_schedule),\n",
    "            loss=loss_function,\n",
    "            metrics=['accuracy'])\n",
    "        \n",
    "    model_2.compile(optimizer=tf.keras.optimizers.Adam(learning_rate=lr_schedule),\n",
    "        loss=loss_function,\n",
    "        metrics=['accuracy'])\n",
    "    \n",
    "    model_3.compile(optimizer=tf.keras.optimizers.Adam(learning_rate=lr_schedule),\n",
    "        loss=loss_function,\n",
    "        metrics=['accuracy'])\n",
    "\n",
    "    \n",
    "    num_train = min([len(train_dataset_mnist[0]), len(train_dataset_kmnist[0]) , len(train_dataset_fmnist[0])])\n",
    "    for ep in range(epochs):\n",
    "        print('epochs: ',ep+1,'/',epochs)\n",
    "\n",
    "        for i in range(int(num_train/batch)):\n",
    "\n",
    "            if i%10 ==0 :\n",
    "                print('iterator:' , i)\n",
    "\n",
    "            model_1.set_weights(model.get_weights())\n",
    "            model_2.set_weights(model.get_weights())\n",
    "            model_3.set_weights(model.get_weights())\n",
    "\n",
    "            # rotate\n",
    "            model_2.layers[-3].set_weights([np.rot90(*model_2.layers[-3].get_weights())])\n",
    "            model_3.layers[-4].set_weights([np.rot90(*model_3.layers[-4].get_weights())])\n",
    "            \n",
    "            # train\n",
    "\n",
    "\n",
    "            start = i*batch\n",
    "            end = (i+1)*batch\n",
    "            \n",
    "            model_1.fit(x=np.concatenate(mnist[0][start:end]),y = np.concatenate(mnist[1][start:end]),batch_size=8,verbose=0)\n",
    "            model_2.fit(x=np.concatenate(kmnist[0][start:end]),y = np.concatenate(kmnist[1][start:end]),batch_size=8,verbose=0)\n",
    "            model_3.fit(x=np.concatenate(fmnist[0][start:end]),y = np.concatenate(fmnist[1][start:end]),batch_size=8,verbose=0)\n",
    "            \n",
    "            \n",
    "            model_2.layers[-3].set_weights([np.rot90(*model_2.layers[-3].get_weights(),3)])\n",
    "            model_3.layers[-4].set_weights([np.rot90(*model_3.layers[-4].get_weights(),3)])\n",
    "            \n",
    "            \n",
    "\n",
    "            for lay in range(1,5):\n",
    "                model.layers[lay].set_weights([(model_1.layers[lay].get_weights()[0]+model_2.layers[lay].get_weights()[0] +model_3.layers[lay].get_weights()[0])/3])\n",
    "\n"
   ]
  },
  {
   "cell_type": "code",
   "execution_count": 19,
   "metadata": {},
   "outputs": [],
   "source": [
    "def custom_training_2(model:tf.keras.models,fmnist,kmnist,mnist,epochs =1,batch =1):\n",
    "\n",
    "    if epochs < 1:\n",
    "        epochs = 1\n",
    "    if batch < 1 :\n",
    "        batch = 1\n",
    "    model.compile(optimizer=tf.keras.optimizers.Adam(learning_rate=lr_schedule),\n",
    "            loss=loss_function,\n",
    "            metrics=['accuracy'])\n",
    "    \n",
    "    mod = [0,1,2]\n",
    "\n",
    "    num_train = min([len(train_dataset_mnist[0]), len(train_dataset_kmnist[0]) , len(train_dataset_fmnist[0])])\n",
    "    for ep in range(epochs):\n",
    "        print('epochs: ',ep+1,'/',epochs)\n",
    "\n",
    "        for i in range(int(num_train/batch)):\n",
    "\n",
    "            if i%10 ==0 :\n",
    "                print('iterator:' , i)\n",
    "\n",
    "            np.random.shuffle(mod)\n",
    "            \n",
    "            start = i*batch\n",
    "            end = (i+1)*batch\n",
    "\n",
    "            for mode in mod:\n",
    "                if mode == 0:\n",
    "                    model.fit(x=np.concatenate(mnist[0][start:end]),y = np.concatenate(mnist[1][start:end]),batch_size=8,verbose=0)\n",
    "                elif mode == 1:\n",
    "                    model.layers[-3].set_weights([np.rot90(*model.layers[-3].get_weights())])\n",
    "                    model.fit(x=np.concatenate(kmnist[0][start:end]),y = np.concatenate(kmnist[1][start:end]),batch_size=8,verbose=0)\n",
    "                    model.layers[-3].set_weights([np.rot90(*model.layers[-3].get_weights(),3)])\n",
    "                elif mode == 2:\n",
    "                    model.layers[-4].set_weights([np.rot90(*model.layers[-4].get_weights())])\n",
    "                    model.fit(x=np.concatenate(fmnist[0][start:end]),y = np.concatenate(fmnist[1][start:end]),batch_size=8,verbose=0)\n",
    "                    model.layers[-4].set_weights([np.rot90(*model.layers[-4].get_weights(),3)])\n"
   ]
  },
  {
   "cell_type": "code",
   "execution_count": 20,
   "metadata": {},
   "outputs": [],
   "source": [
    "D2NN = get_D2NN_model()"
   ]
  },
  {
   "cell_type": "code",
   "execution_count": null,
   "metadata": {},
   "outputs": [],
   "source": [
    "custom_training(D2NN,\n",
    "                fmnist=train_dataset_fmnist,\n",
    "                kmnist=train_dataset_kmnist,\n",
    "                mnist= train_dataset_mnist,\n",
    "                epochs=4,batch=2)"
   ]
  },
  {
   "cell_type": "code",
   "execution_count": null,
   "metadata": {},
   "outputs": [
    {
     "name": "stderr",
     "output_type": "stream",
     "text": [
      "WARNING:absl:Found untraced functions such as _update_step_xla while saving (showing 1 of 1). These functions will not be directly callable after loading.\n"
     ]
    },
    {
     "name": "stdout",
     "output_type": "stream",
     "text": [
      "INFO:tensorflow:Assets written to: final\\assets\n"
     ]
    },
    {
     "name": "stderr",
     "output_type": "stream",
     "text": [
      "INFO:tensorflow:Assets written to: final\\assets\n"
     ]
    }
   ],
   "source": [
    "D2NN.save('final')"
   ]
  },
  {
   "cell_type": "code",
   "execution_count": 21,
   "metadata": {},
   "outputs": [
    {
     "name": "stderr",
     "output_type": "stream",
     "text": [
      "WARNING:absl:At this time, the v2.11+ optimizer `tf.keras.optimizers.Adam` runs slowly on M1/M2 Macs, please use the legacy Keras optimizer instead, located at `tf.keras.optimizers.legacy.Adam`.\n",
      "WARNING:absl:There is a known slowdown when using v2.11+ Keras optimizers on M1/M2 Macs. Falling back to the legacy Keras optimizer, i.e., `tf.keras.optimizers.legacy.Adam`.\n"
     ]
    }
   ],
   "source": [
    "RONN = tf.keras.models.load_model(\"final\")\n",
    "RONN.compile(optimizer=tf.keras.optimizers.Adam(learning_rate=lr_schedule),\n",
    "            loss=loss_function,\n",
    "            metrics=['accuracy'])"
   ]
  },
  {
   "attachments": {},
   "cell_type": "markdown",
   "metadata": {},
   "source": [
    "### 3. Extracting weights from model\n",
    "- Neurons’ phase values were converted into a relative height map (Δ𝑧=𝜆$\\phi$/2𝜋Δ𝑛)    \n",
    "  ,where Δ𝑛 is the refractive index difference between the 3D printing material (VeroBlackPlus RGD875) and air\n",
    "- save the height map to a numpy file"
   ]
  },
  {
   "cell_type": "code",
   "execution_count": 22,
   "metadata": {},
   "outputs": [
    {
     "name": "stdout",
     "output_type": "stream",
     "text": [
      "The max value in wights is: 6.2831044\n",
      "The mim value in wights is: 3.1506064e-05\n"
     ]
    }
   ],
   "source": [
    "#D2NN.load_weights('./training_results/D2NN_phase_only')\n",
    "# print(D2NN.layers)\n",
    "# print(D2NN.layers[1].weights)\n",
    "# print(D2NN.layers[5].get_weights()) # get the numpy arrays for the parameters of the layer\n",
    "# print(D2NN.get_layer('diffraction__layer_4').phase)\n",
    "\n",
    "# Extract all the weights from the model\n",
    "weights = []\n",
    "# D2NN 中的 diffraction layer 从第二层开始，第一层是 input layer\n",
    "for l in range(1,2+1):\n",
    "    weights.append(np.squeeze(D2NN.layers[l].get_weights())) \n",
    "    \n",
    "# Map the weights into range [0, 2*pi]\n",
    "for l in range(0,2):\n",
    "    for i in range(0,size):\n",
    "        for j in range(0,size):\n",
    "            while (weights[l][i][j] < 0):\n",
    "                    weights[l][i][j] += 2*np.pi\n",
    "            while(weights[l][i][j] > 2*np.pi):\n",
    "                weights[l][i][j] -= 2*np.pi\n",
    "print(\"The max value in wights is: \" + str(np.max(weights)))\n",
    "print(\"The mim value in wights is: \" + str(np.min(weights)))"
   ]
  },
  {
   "cell_type": "code",
   "execution_count": 23,
   "metadata": {},
   "outputs": [
    {
     "name": "stdout",
     "output_type": "stream",
     "text": [
      "The shape of the height map for all layers: (2, 56, 56)\n",
      "Max and min value in height_map are: 0.0010381927, 5.205924e-09\n",
      "\n",
      "height_map.npy has saved successfully\n"
     ]
    }
   ],
   "source": [
    "# Convert the weights to height map\n",
    "lam = 0.75e-3\n",
    "\n",
    "# VeroBlackPlus RGD875, refractive index: 1.7227\n",
    "# SiO2 (Glass) - Palik, Refractive Index: 1.47012\n",
    "material_refractive_index = 1.7227\n",
    "air_refractive_index = 1.0003\n",
    "\n",
    "delta_n = material_refractive_index - air_refractive_index\n",
    "\n",
    "height_map = (lam*np.array(weights)) / (2*np.pi*delta_n)         \n",
    "\n",
    "# Check the shape and save it to np file\n",
    "print(\"The shape of the height map for all layers:\",end=' ')\n",
    "print(np.shape(np.array(height_map)))\n",
    "print(\"Max and min value in height_map are: \" + str(np.max(height_map)) + \", \"+ str(np.min(height_map))+\"\\n\")\n",
    "\n",
    "np.save('height_map.npy',np.array(height_map))\n",
    "print(\"height_map.npy has saved successfully\")"
   ]
  },
  {
   "cell_type": "code",
   "execution_count": 24,
   "metadata": {},
   "outputs": [
    {
     "name": "stdout",
     "output_type": "stream",
     "text": [
      "The shape of the filter height map for all layers: (56, 56)\n",
      "Max and min value in height_map are: 0.0010341346, 0.0\n",
      "\n",
      "filter_height_map.npy has saved successfully\n"
     ]
    },
    {
     "name": "stderr",
     "output_type": "stream",
     "text": [
      "2023-07-13 19:37:21.234845: W tensorflow/core/kernels/data/cache_dataset_ops.cc:854] The calling iterator did not fully read the dataset being cached. In order to avoid unexpected truncation of the dataset, the partially cached contents of the dataset  will be discarded. This can happen if you have an input pipeline similar to `dataset.cache().take(k).repeat()`. You should use `dataset.take(k).cache().repeat()` instead.\n"
     ]
    }
   ],
   "source": [
    "# get the height map for the filter\n",
    "test_dataset = fashion_mnist_test.map(preprocess).batch(BATCH_SIZE)\n",
    "for images, labels in test_dataset.take(1):\n",
    "    images = tfds.as_numpy(images)\n",
    "    for _ in range(1):\n",
    "        image_phase = np.angle(images[3]).squeeze()\n",
    "        for i in range(0,size):\n",
    "            for j in range(0,size):\n",
    "                while (image_phase[i][j] < 0):\n",
    "                    image_phase[i][j] += 2*np.pi\n",
    "                while(image_phase[i][j] > 2*np.pi):\n",
    "                    image_phase[i][j] -= 2*np.pi\n",
    "        # print(np.shape(image_phase))\n",
    "        \n",
    "        filter_height_map = (lam*np.array(image_phase)) / (2*np.pi*delta_n)\n",
    "        np.save('filter_height_map.npy',np.array(filter_height_map))\n",
    "        print(\"The shape of the filter height map for all layers:\",end=' ')\n",
    "        print(np.shape(np.array(filter_height_map)))\n",
    "        print(\"Max and min value in height_map are: \" + str(np.max(filter_height_map)) + \", \"+ str(np.min(filter_height_map))+\"\\n\")\n",
    "        print(\"filter_height_map.npy has saved successfully\")"
   ]
  },
  {
   "attachments": {},
   "cell_type": "markdown",
   "metadata": {},
   "source": [
    "### 4.Evaluation"
   ]
  },
  {
   "cell_type": "code",
   "execution_count": 25,
   "metadata": {},
   "outputs": [
    {
     "data": {
      "text/plain": [
       "<matplotlib.image.AxesImage at 0x2c6ea49d0>"
      ]
     },
     "execution_count": 25,
     "metadata": {},
     "output_type": "execute_result"
    },
    {
     "data": {
      "image/png": "[encoded data removed]",
      "text/plain": [
       "<Figure size 700x700 with 1 Axes>"
      ]
     },
     "metadata": {},
     "output_type": "display_data"
    }
   ],
   "source": [
    "\"\"\"Plot the region of the ten detectors\"\"\"\n",
    "detector_plane = np.zeros([size,size])\n",
    "\n",
    "ten_detector_regions = [[120,170,120,170],\n",
    "                        [120,170,240,290],\n",
    "                        [120,170,360,410],\n",
    "                        [220,270,120,170],\n",
    "                        [220,270,200,250],\n",
    "                        [220,270,280,330],\n",
    "                        [220,270,360,410],\n",
    "                        [320,370,120,170],\n",
    "                        [320,370,240,290],\n",
    "                        [320,370,360,410]] \n",
    "\n",
    "def get_range(shape,size=size,base = 500):\n",
    "            x0 = shape[0] * size // base\n",
    "            y0 = shape[2] * size // base\n",
    "            delta = (shape[1]-shape[0])* size // base\n",
    "            x1 = x0+delta\n",
    "            y1 = y0+delta\n",
    "            return x0,x1,y0,y1\n",
    "\n",
    "for i in range(0,10):\n",
    "    x0,x1,y0,y1 = get_range(ten_detector_regions[i])\n",
    "    # print([x0,x1,y0,y1])\n",
    "    detector_plane[x0:x1,y0:y1] = 1\n",
    "\n",
    "# plot the detector region\n",
    "rows, cols = 1 ,1\n",
    "fig = plt.figure(figsize=(7,7))\n",
    "plt.imshow(detector_plane,cmap='gray')"
   ]
  },
  {
   "cell_type": "markdown",
   "metadata": {},
   "source": [
    "---"
   ]
  },
  {
   "cell_type": "code",
   "execution_count": 26,
   "metadata": {},
   "outputs": [],
   "source": [
    "RONN = tf.keras.models.load_model('final')\n",
    "RONN_nodetector = get_D2NN_model_detect(RONN)"
   ]
  },
  {
   "cell_type": "code",
   "execution_count": 27,
   "metadata": {},
   "outputs": [],
   "source": [
    "def plot_phase(complex_arr):\n",
    "\n",
    "    phase_image = complex_arr\n",
    "    rows, cols = 1 ,2\n",
    "    fig = plt.figure(figsize=(12,5))\n",
    "    \n",
    "    temp = np.absolute(phase_image)\n",
    "    \n",
    "    for i in range(detector_plane.shape[0]):\n",
    "        for j in range(detector_plane.shape[1]):\n",
    "            if detector_plane[i][j] == 0:\n",
    "                temp[i][j] = 0\n",
    "    \n",
    "    plt.imshow(temp)"
   ]
  },
  {
   "cell_type": "code",
   "execution_count": 28,
   "metadata": {},
   "outputs": [
    {
     "data": {
      "text/plain": [
       "<tf.Tensor: shape=(1, 10), dtype=float32, numpy=\n",
       "array([[0.07729536, 0.165096  , 0.09674882, 0.24200736, 0.06276488,\n",
       "        0.10040962, 0.10620556, 0.06922168, 0.13607323, 0.08839674]],\n",
       "      dtype=float32)>"
      ]
     },
     "execution_count": 28,
     "metadata": {},
     "output_type": "execute_result"
    },
    {
     "data": {
      "image/png": "[encoded data removed]",
      "text/plain": [
       "<Figure size 1200x500 with 1 Axes>"
      ]
     },
     "metadata": {},
     "output_type": "display_data"
    }
   ],
   "source": [
    "complex_arr = RONN_nodetector(train_dataset_mnist[0][2][0][None,:])[0]\n",
    "plot_phase(complex_arr)\n",
    "RONN(train_dataset_mnist[0][2][0][None,:])"
   ]
  },
  {
   "cell_type": "markdown",
   "metadata": {},
   "source": [
    "------"
   ]
  },
  {
   "cell_type": "code",
   "execution_count": 29,
   "metadata": {},
   "outputs": [],
   "source": [
    "RONN_nodetector.layers[-2].set_weights([np.rot90(*RONN_nodetector.layers[-2].get_weights())])\n",
    "RONN.layers[-3].set_weights([np.rot90(*RONN.layers[-3].get_weights())])"
   ]
  },
  {
   "cell_type": "code",
   "execution_count": 30,
   "metadata": {},
   "outputs": [
    {
     "data": {
      "text/plain": [
       "<tf.Tensor: shape=(1, 10), dtype=float32, numpy=\n",
       "array([[0.05740933, 0.1190253 , 0.11045122, 0.04178251, 0.07352608,\n",
       "        0.19299227, 0.06051059, 0.09926828, 0.13016076, 0.08272669]],\n",
       "      dtype=float32)>"
      ]
     },
     "execution_count": 30,
     "metadata": {},
     "output_type": "execute_result"
    },
    {
     "data": {
      "image/png": "[encoded data removed]",
      "text/plain": [
       "<Figure size 1200x500 with 1 Axes>"
      ]
     },
     "metadata": {},
     "output_type": "display_data"
    }
   ],
   "source": [
    "complex_arr = RONN_nodetector(train_dataset_kmnist[0][2][0][None,:])[0]\n",
    "plot_phase(complex_arr)\n",
    "RONN(train_dataset_kmnist[0][2][0][None,:])"
   ]
  },
  {
   "cell_type": "code",
   "execution_count": null,
   "metadata": {},
   "outputs": [],
   "source": []
  }
 ],
 "metadata": {
  "kernelspec": {
   "display_name": "Python 3",
   "language": "python",
   "name": "python3"
  },
  "language_info": {
   "codemirror_mode": {
    "name": "ipython",
    "version": 3
   },
   "file_extension": ".py",
   "mimetype": "text/x-python",
   "name": "python",
   "nbconvert_exporter": "python",
   "pygments_lexer": "ipython3",
   "version": "3.10.12"
  }
 },
 "nbformat": 4,
 "nbformat_minor": 4
}
